{
 "cells": [
  {
   "cell_type": "markdown",
   "id": "25d7736c-ba17-4aff-b6bb-66eba20fbf4e",
   "metadata": {},
   "source": [
    "# Lab | Error Handling"
   ]
  },
  {
   "cell_type": "markdown",
   "id": "bc99b386-7508-47a0-bcdb-d969deaf6c8b",
   "metadata": {},
   "source": [
    "## Exercise: Error Handling for Managing Customer Orders\n",
    "\n",
    "The implementation of your code for managing customer orders assumes that the user will always enter a valid input. \n",
    "\n",
    "For example, we could modify the `initialize_inventory` function to include error handling.\n",
    "   - If the user enters an invalid quantity (e.g., a negative value or a non-numeric value), display an error message and ask them to re-enter the quantity for that product.\n",
    "   - Use a try-except block to handle the error and continue prompting the user until a valid quantity is entered.\n",
    "\n",
    "```python\n",
    "# Step 1: Define the function for initializing the inventory with error handling\n",
    "def initialize_inventory(products):\n",
    "    inventory = {}\n",
    "    for product in products:\n",
    "        valid_quantity = False\n",
    "        while not valid_quantity:\n",
    "            try:\n",
    "                quantity = int(input(f\"Enter the quantity of {product}s available: \"))\n",
    "                if quantity < 0:\n",
    "                    raise ValueError(\"Invalid quantity! Please enter a non-negative value.\")\n",
    "                valid_quantity = True\n",
    "            except ValueError as error:\n",
    "                print(f\"Error: {error}\")\n",
    "        inventory[product] = quantity\n",
    "    return inventory\n",
    "\n",
    "# Or, in another way:\n",
    "\n",
    "def initialize_inventory(products):\n",
    "    inventory = {}\n",
    "    for product in products:\n",
    "        valid_input = False\n",
    "        while not valid_input:\n",
    "            try:\n",
    "                quantity = int(input(f\"Enter the quantity of {product}s available: \"))\n",
    "                if quantity >= 0:\n",
    "                    inventory[product] = quantity\n",
    "                    valid_input = True\n",
    "                else:\n",
    "                    print(\"Quantity cannot be negative. Please enter a valid quantity.\")\n",
    "            except ValueError:\n",
    "                print(\"Invalid input. Please enter a valid quantity.\")\n",
    "    return inventory\n",
    "```\n",
    "\n",
    "Let's enhance your code by implementing error handling to handle invalid inputs.\n",
    "\n",
    "Follow the steps below to complete the exercise:\n",
    "\n",
    "2. Modify the `calculate_total_price` function to include error handling.\n",
    "   - If the user enters an invalid price (e.g., a negative value or a non-numeric value), display an error message and ask them to re-enter the price for that product.\n",
    "   - Use a try-except block to handle the error and continue prompting the user until a valid price is entered.\n",
    "\n",
    "3. Modify the `get_customer_orders` function to include error handling.\n",
    "   - If the user enters an invalid number of orders (e.g., a negative value or a non-numeric value), display an error message and ask them to re-enter the number of orders.\n",
    "   - If the user enters an invalid product name (e.g., a product name that is not in the inventory), or that doesn't have stock available, display an error message and ask them to re-enter the product name. *Hint: you will need to pass inventory as a parameter*\n",
    "   - Use a try-except block to handle the error and continue prompting the user until a valid product name is entered.\n",
    "\n",
    "4. Test your code by running the program and deliberately entering invalid quantities and product names. Make sure the error handling mechanism works as expected.\n"
   ]
  },
  {
   "cell_type": "code",
   "execution_count": 1,
   "id": "82422e06-66f7-4c50-9611-056078baf451",
   "metadata": {},
   "outputs": [],
   "source": [
    "# Modify the calculate_total_price function to include error handling.\n",
    "# If the user enters an invalid price (e.g., a negative value or a non-numeric value),\n",
    "# display an error message and ask them to re-enter the price for that product.\n",
    "# Use a try-except block to handle the error and continue prompting the user until a valid price is entered.\n",
    "\n",
    "def total_price(customer_orders):\n",
    "    \n",
    "    customer_orders_price = {}\n",
    "    \n",
    "    for order in customer_orders:\n",
    "\n",
    "        while True:\n",
    "            user_input = input(f\"What's the price of '{order.upper()}'? \")\n",
    "            if not user_input.strip():\n",
    "                print(\"Empty input. Please enter a number.\")\n",
    "                continue\n",
    "            \n",
    "            try:\n",
    "                price = float(user_input)\n",
    "                if price > 0:\n",
    "                    customer_orders_price[order] = price\n",
    "                    break\n",
    "                else:\n",
    "                    print(f\"Invalid input for '{order}'. Please enter a positive number for pricing.\")\n",
    "            except ValueError:\n",
    "                print(\"Invalid input. Please enter a valid number.\")\n",
    "\n",
    "    \n",
    "    final_price = sum(customer_orders_price.values())\n",
    "    print (\"\\nThe toal price of CUSTOMER ORDERS IS:\", final_price,\"$\")\n",
    "    \n",
    "    return customer_orders_price"
   ]
  },
  {
   "cell_type": "code",
   "execution_count": 2,
   "id": "2f0a6213-f4d9-49b6-8171-e53a2de46f4d",
   "metadata": {},
   "outputs": [],
   "source": [
    "# Modify the get_customer_orders function to include error handling.\n",
    "# If the user enters an invalid number of orders (e.g., a negative value or a non-numeric value),\n",
    "# display an error message and ask them to re-enter the number of orders.\n",
    "# If the user enters an invalid product name (e.g., a product name that is not in the inventory), or that doesn't have stock available,\n",
    "# display an error message and ask them to re-enter the product name. Hint: you will need to pass inventory as a parameter\n",
    "# Use a try-except block to handle the error and continue prompting the user until a valid product name is entered.\n",
    "\n",
    "def get_customer_orders(inventory):\n",
    "    \"\"\"\n",
    "    Prompts the user for the number of orders and gathers product names.\n",
    "\n",
    "    Args:\n",
    "        inventory (dict): A dict of quantities of each available product.\n",
    "\n",
    "    Returns:\n",
    "        set: A set containing the unique, valid products ordered by the customer.\n",
    "    \"\"\"\n",
    "    customer_orders = set()\n",
    "    print(f\"\\nPRODUCTS LIST: {', '.join(products)}\\n\")\n",
    "\n",
    "    while True:\n",
    "        user_input = input(\"How many orders do you want to enter? \")\n",
    "        if not user_input.strip():\n",
    "            print(\"Empty input. Please enter a number.\")\n",
    "            continue\n",
    "        try:\n",
    "            num_orders = int(user_input)\n",
    "            if num_orders <= 0:\n",
    "                print(\"Invalid input. Please enter a positive number.\")\n",
    "            elif num_orders > len(products):\n",
    "                print(f\"Invalid input. There are only {len(products)} products available.\")\n",
    "            else:\n",
    "                break\n",
    "        except ValueError:\n",
    "            print(\"Invalid input. Please enter a valid number.\")\n",
    "            continue\n",
    "\n",
    "    while len(customer_orders) < num_orders:\n",
    "        order = input(f\"Enter product #{len(customer_orders) + 1} of {num_orders}: \").strip().lower()\n",
    "\n",
    "        if order not in inventory:\n",
    "            print(f\"Error: '{order.upper()}' is not a valid order. Try again\")        \n",
    "        elif inventory[order] <= 0:\n",
    "            print(f\"Error: '{order.upper()}' is out of stock. Please choose another product.\")\n",
    "        elif order in customer_orders:\n",
    "            print(f\"Error: You've already chosen '{order.upper()}'. Pick a different product.\")\n",
    "        else:\n",
    "            customer_orders.add(order)\n",
    "            inventory[order] -= 1\n",
    "            print(f\"'{order.upper()}' has been added to your order.\")\n",
    "            \n",
    "    print(\"\\nCUSTOMER ORDERS: \", \", \".join(customer_orders),\"\\n\")\n",
    "    return customer_orders"
   ]
  },
  {
   "cell_type": "code",
   "execution_count": 3,
   "id": "4b5bc99f-a982-45dd-90c7-647ea918f682",
   "metadata": {},
   "outputs": [
    {
     "name": "stdout",
     "output_type": "stream",
     "text": [
      "\n",
      "PRODUCTS LIST: mug, hat, book, keychain, t-shirt\n",
      "\n"
     ]
    },
    {
     "name": "stdin",
     "output_type": "stream",
     "text": [
      "How many orders do you want to enter?  ten\n"
     ]
    },
    {
     "name": "stdout",
     "output_type": "stream",
     "text": [
      "Invalid input. Please enter a valid number.\n"
     ]
    },
    {
     "name": "stdin",
     "output_type": "stream",
     "text": [
      "How many orders do you want to enter?  0\n"
     ]
    },
    {
     "name": "stdout",
     "output_type": "stream",
     "text": [
      "Invalid input. Please enter a positive number.\n"
     ]
    },
    {
     "name": "stdin",
     "output_type": "stream",
     "text": [
      "How many orders do you want to enter?  10\n"
     ]
    },
    {
     "name": "stdout",
     "output_type": "stream",
     "text": [
      "Invalid input. There are only 5 products available.\n"
     ]
    },
    {
     "name": "stdin",
     "output_type": "stream",
     "text": [
      "How many orders do you want to enter?  saf\n"
     ]
    },
    {
     "name": "stdout",
     "output_type": "stream",
     "text": [
      "Invalid input. Please enter a valid number.\n"
     ]
    },
    {
     "name": "stdin",
     "output_type": "stream",
     "text": [
      "How many orders do you want to enter?  3\n",
      "Enter product #1 of 3:  book\n"
     ]
    },
    {
     "name": "stdout",
     "output_type": "stream",
     "text": [
      "'BOOK' has been added to your order.\n"
     ]
    },
    {
     "name": "stdin",
     "output_type": "stream",
     "text": [
      "Enter product #2 of 3:  book\n"
     ]
    },
    {
     "name": "stdout",
     "output_type": "stream",
     "text": [
      "Error: You've already chosen 'BOOK'. Pick a different product.\n"
     ]
    },
    {
     "name": "stdin",
     "output_type": "stream",
     "text": [
      "Enter product #2 of 3:  boo\n"
     ]
    },
    {
     "name": "stdout",
     "output_type": "stream",
     "text": [
      "Error: 'BOO' is not a valid order. Try again\n"
     ]
    },
    {
     "name": "stdin",
     "output_type": "stream",
     "text": [
      "Enter product #2 of 3:  hat\n"
     ]
    },
    {
     "name": "stdout",
     "output_type": "stream",
     "text": [
      "'HAT' has been added to your order.\n"
     ]
    },
    {
     "name": "stdin",
     "output_type": "stream",
     "text": [
      "Enter product #3 of 3:  mug\n"
     ]
    },
    {
     "name": "stdout",
     "output_type": "stream",
     "text": [
      "'MUG' has been added to your order.\n",
      "\n",
      "CUSTOMER ORDERS:  mug, hat, book \n",
      "\n"
     ]
    },
    {
     "name": "stdin",
     "output_type": "stream",
     "text": [
      "What's the price of 'MUG'?  er\n"
     ]
    },
    {
     "name": "stdout",
     "output_type": "stream",
     "text": [
      "Invalid input. Please enter a valid number.\n"
     ]
    },
    {
     "name": "stdin",
     "output_type": "stream",
     "text": [
      "What's the price of 'MUG'?  4\n",
      "What's the price of 'HAT'?  5\n",
      "What's the price of 'BOOK'?  6\n"
     ]
    },
    {
     "name": "stdout",
     "output_type": "stream",
     "text": [
      "\n",
      "The toal price of CUSTOMER ORDERS IS: 15.0 $\n"
     ]
    }
   ],
   "source": [
    "# Test your code by running the program and deliberately entering invalid quantities and product names.\n",
    "# Make sure the error handling mechanism works as expected.\n",
    "\n",
    "products = [\"mug\", \"hat\", \"book\", \"keychain\", \"t-shirt\"]\n",
    "\n",
    "inventory = {\n",
    "    \"mug\": 10,\n",
    "    \"hat\": 10,\n",
    "    \"book\": 10,\n",
    "    \"keychain\": 10,\n",
    "    \"t-shirt\": 10\n",
    "}\n",
    "\n",
    "customer_orders = get_customer_orders(inventory)\n",
    "\n",
    "price = total_price(customer_orders)"
   ]
  },
  {
   "cell_type": "code",
   "execution_count": null,
   "id": "1bbc8722-6d5f-40c5-bb82-e08367dfee09",
   "metadata": {},
   "outputs": [],
   "source": []
  }
 ],
 "metadata": {
  "kernelspec": {
   "display_name": "Python [conda env:base] *",
   "language": "python",
   "name": "conda-base-py"
  },
  "language_info": {
   "codemirror_mode": {
    "name": "ipython",
    "version": 3
   },
   "file_extension": ".py",
   "mimetype": "text/x-python",
   "name": "python",
   "nbconvert_exporter": "python",
   "pygments_lexer": "ipython3",
   "version": "3.13.5"
  }
 },
 "nbformat": 4,
 "nbformat_minor": 5
}
